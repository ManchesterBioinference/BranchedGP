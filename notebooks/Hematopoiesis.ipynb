{
 "cells": [
  {
   "cell_type": "markdown",
   "metadata": {},
   "source": [
    "Branching GP Regression on hematopoietic data\n",
    "--\n",
    "\n",
    "*Alexis Boukouvalas, 2017*\n",
    "\n",
    "Branching GP regression with Gaussian noise on the hematopoiesis data described in the paper \"BGP: Gaussian processes for identifying branching dynamics in single cell data\".\n",
    "\n",
    "This notebook shows how to build a BGP model and plot the posterior model fit and posterior branching times."
   ]
  },
  {
   "cell_type": "code",
   "execution_count": 1,
   "metadata": {},
   "outputs": [],
   "source": [
    "import pandas as pd\n",
    "import numpy as np\n",
    "from matplotlib import pyplot as plt\n",
    "plt.style.use('ggplot')\n",
    "%matplotlib inline"
   ]
  },
  {
   "cell_type": "markdown",
   "metadata": {},
   "source": [
    "### Read the hematopoiesis data. This has been simplified to a small subset of 23 genes found to be branching.\n",
    "We have also performed Monocle2 (version 2.1) - DDRTree on this data. The results loaded include the Monocle estimated pseudotime, branching assignment (state) and the DDRTree latent dimensions."
   ]
  },
  {
   "cell_type": "code",
   "execution_count": 2,
   "metadata": {},
   "outputs": [],
   "source": [
    "Y = pd.read_csv('singlecelldata/hematoData.csv', index_col=[0])\n",
    "monocle = pd.read_csv('singlecelldata/hematoMonocle.csv', index_col=[0])"
   ]
  },
  {
   "cell_type": "code",
   "execution_count": 3,
   "metadata": {},
   "outputs": [
    {
     "data": {
      "text/html": [
       "<div>\n",
       "<style scoped>\n",
       "    .dataframe tbody tr th:only-of-type {\n",
       "        vertical-align: middle;\n",
       "    }\n",
       "\n",
       "    .dataframe tbody tr th {\n",
       "        vertical-align: top;\n",
       "    }\n",
       "\n",
       "    .dataframe thead th {\n",
       "        text-align: right;\n",
       "    }\n",
       "</style>\n",
       "<table border=\"1\" class=\"dataframe\">\n",
       "  <thead>\n",
       "    <tr style=\"text-align: right;\">\n",
       "      <th></th>\n",
       "      <th>CAR2</th>\n",
       "      <th>APOE</th>\n",
       "      <th>MPO</th>\n",
       "      <th>PRTN3</th>\n",
       "      <th>CTSG</th>\n",
       "      <th>CEBPA</th>\n",
       "      <th>FOXP1</th>\n",
       "      <th>RUNX1</th>\n",
       "      <th>CEBPE</th>\n",
       "      <th>GFI1</th>\n",
       "      <th>...</th>\n",
       "      <th>MEF2C</th>\n",
       "      <th>MEIS1</th>\n",
       "      <th>GATA2</th>\n",
       "      <th>NFE2</th>\n",
       "      <th>TAL1</th>\n",
       "      <th>GATA1</th>\n",
       "      <th>KLF1</th>\n",
       "      <th>FLT3</th>\n",
       "      <th>SATB1</th>\n",
       "      <th>ELANE</th>\n",
       "    </tr>\n",
       "  </thead>\n",
       "  <tbody>\n",
       "    <tr>\n",
       "      <th>W29956</th>\n",
       "      <td>0.0</td>\n",
       "      <td>14.272981</td>\n",
       "      <td>7.136490</td>\n",
       "      <td>2.378830</td>\n",
       "      <td>4.757660</td>\n",
       "      <td>0.0</td>\n",
       "      <td>0.000000</td>\n",
       "      <td>0.000000</td>\n",
       "      <td>0.0</td>\n",
       "      <td>0.000000</td>\n",
       "      <td>...</td>\n",
       "      <td>0.000000</td>\n",
       "      <td>0.0</td>\n",
       "      <td>0.000000</td>\n",
       "      <td>2.378830</td>\n",
       "      <td>0.000000</td>\n",
       "      <td>3.568245</td>\n",
       "      <td>0.0</td>\n",
       "      <td>0.000000</td>\n",
       "      <td>0.0</td>\n",
       "      <td>0.000000</td>\n",
       "    </tr>\n",
       "    <tr>\n",
       "      <th>W30018</th>\n",
       "      <td>0.0</td>\n",
       "      <td>0.000000</td>\n",
       "      <td>14.331045</td>\n",
       "      <td>18.239511</td>\n",
       "      <td>14.331045</td>\n",
       "      <td>0.0</td>\n",
       "      <td>0.000000</td>\n",
       "      <td>0.000000</td>\n",
       "      <td>0.0</td>\n",
       "      <td>0.000000</td>\n",
       "      <td>...</td>\n",
       "      <td>0.000000</td>\n",
       "      <td>0.0</td>\n",
       "      <td>0.000000</td>\n",
       "      <td>2.605644</td>\n",
       "      <td>0.000000</td>\n",
       "      <td>0.000000</td>\n",
       "      <td>0.0</td>\n",
       "      <td>1.302822</td>\n",
       "      <td>0.0</td>\n",
       "      <td>0.000000</td>\n",
       "    </tr>\n",
       "    <tr>\n",
       "      <th>W30161</th>\n",
       "      <td>0.0</td>\n",
       "      <td>8.191847</td>\n",
       "      <td>0.000000</td>\n",
       "      <td>4.095923</td>\n",
       "      <td>4.095923</td>\n",
       "      <td>0.0</td>\n",
       "      <td>4.095923</td>\n",
       "      <td>0.000000</td>\n",
       "      <td>0.0</td>\n",
       "      <td>0.000000</td>\n",
       "      <td>...</td>\n",
       "      <td>4.095923</td>\n",
       "      <td>0.0</td>\n",
       "      <td>4.095923</td>\n",
       "      <td>12.287769</td>\n",
       "      <td>4.095923</td>\n",
       "      <td>0.000000</td>\n",
       "      <td>0.0</td>\n",
       "      <td>0.000000</td>\n",
       "      <td>0.0</td>\n",
       "      <td>0.000000</td>\n",
       "    </tr>\n",
       "    <tr>\n",
       "      <th>W30258</th>\n",
       "      <td>0.0</td>\n",
       "      <td>8.889219</td>\n",
       "      <td>11.428996</td>\n",
       "      <td>11.428996</td>\n",
       "      <td>0.000000</td>\n",
       "      <td>0.0</td>\n",
       "      <td>0.000000</td>\n",
       "      <td>1.269889</td>\n",
       "      <td>0.0</td>\n",
       "      <td>0.000000</td>\n",
       "      <td>...</td>\n",
       "      <td>0.000000</td>\n",
       "      <td>0.0</td>\n",
       "      <td>1.269889</td>\n",
       "      <td>0.000000</td>\n",
       "      <td>0.000000</td>\n",
       "      <td>0.000000</td>\n",
       "      <td>0.0</td>\n",
       "      <td>0.000000</td>\n",
       "      <td>0.0</td>\n",
       "      <td>0.000000</td>\n",
       "    </tr>\n",
       "    <tr>\n",
       "      <th>W30296</th>\n",
       "      <td>0.0</td>\n",
       "      <td>0.000000</td>\n",
       "      <td>64.317993</td>\n",
       "      <td>27.564854</td>\n",
       "      <td>15.313807</td>\n",
       "      <td>0.0</td>\n",
       "      <td>0.000000</td>\n",
       "      <td>0.000000</td>\n",
       "      <td>0.0</td>\n",
       "      <td>1.020921</td>\n",
       "      <td>...</td>\n",
       "      <td>0.000000</td>\n",
       "      <td>0.0</td>\n",
       "      <td>0.000000</td>\n",
       "      <td>1.020921</td>\n",
       "      <td>0.000000</td>\n",
       "      <td>0.000000</td>\n",
       "      <td>0.0</td>\n",
       "      <td>0.000000</td>\n",
       "      <td>0.0</td>\n",
       "      <td>7.146443</td>\n",
       "    </tr>\n",
       "  </tbody>\n",
       "</table>\n",
       "<p>5 rows × 23 columns</p>\n",
       "</div>"
      ],
      "text/plain": [
       "        CAR2       APOE        MPO      PRTN3       CTSG  CEBPA     FOXP1  \\\n",
       "W29956   0.0  14.272981   7.136490   2.378830   4.757660    0.0  0.000000   \n",
       "W30018   0.0   0.000000  14.331045  18.239511  14.331045    0.0  0.000000   \n",
       "W30161   0.0   8.191847   0.000000   4.095923   4.095923    0.0  4.095923   \n",
       "W30258   0.0   8.889219  11.428996  11.428996   0.000000    0.0  0.000000   \n",
       "W30296   0.0   0.000000  64.317993  27.564854  15.313807    0.0  0.000000   \n",
       "\n",
       "           RUNX1  CEBPE      GFI1    ...        MEF2C  MEIS1     GATA2  \\\n",
       "W29956  0.000000    0.0  0.000000    ...     0.000000    0.0  0.000000   \n",
       "W30018  0.000000    0.0  0.000000    ...     0.000000    0.0  0.000000   \n",
       "W30161  0.000000    0.0  0.000000    ...     4.095923    0.0  4.095923   \n",
       "W30258  1.269889    0.0  0.000000    ...     0.000000    0.0  1.269889   \n",
       "W30296  0.000000    0.0  1.020921    ...     0.000000    0.0  0.000000   \n",
       "\n",
       "             NFE2      TAL1     GATA1  KLF1      FLT3  SATB1     ELANE  \n",
       "W29956   2.378830  0.000000  3.568245   0.0  0.000000    0.0  0.000000  \n",
       "W30018   2.605644  0.000000  0.000000   0.0  1.302822    0.0  0.000000  \n",
       "W30161  12.287769  4.095923  0.000000   0.0  0.000000    0.0  0.000000  \n",
       "W30258   0.000000  0.000000  0.000000   0.0  0.000000    0.0  0.000000  \n",
       "W30296   1.020921  0.000000  0.000000   0.0  0.000000    0.0  7.146443  \n",
       "\n",
       "[5 rows x 23 columns]"
      ]
     },
     "execution_count": 3,
     "metadata": {},
     "output_type": "execute_result"
    }
   ],
   "source": [
    "Y.head()"
   ]
  },
  {
   "cell_type": "code",
   "execution_count": 4,
   "metadata": {},
   "outputs": [
    {
     "data": {
      "text/html": [
       "<div>\n",
       "<style scoped>\n",
       "    .dataframe tbody tr th:only-of-type {\n",
       "        vertical-align: middle;\n",
       "    }\n",
       "\n",
       "    .dataframe tbody tr th {\n",
       "        vertical-align: top;\n",
       "    }\n",
       "\n",
       "    .dataframe thead th {\n",
       "        text-align: right;\n",
       "    }\n",
       "</style>\n",
       "<table border=\"1\" class=\"dataframe\">\n",
       "  <thead>\n",
       "    <tr style=\"text-align: right;\">\n",
       "      <th></th>\n",
       "      <th>State</th>\n",
       "      <th>StretchedPseudotime</th>\n",
       "      <th>DDRTreeDim1</th>\n",
       "      <th>DDRTreeDim2</th>\n",
       "    </tr>\n",
       "  </thead>\n",
       "  <tbody>\n",
       "    <tr>\n",
       "      <th>0</th>\n",
       "      <td>3.0</td>\n",
       "      <td>0.312208</td>\n",
       "      <td>-0.728425</td>\n",
       "      <td>-4.253484</td>\n",
       "    </tr>\n",
       "    <tr>\n",
       "      <th>1</th>\n",
       "      <td>2.0</td>\n",
       "      <td>0.256831</td>\n",
       "      <td>-3.131191</td>\n",
       "      <td>-2.867801</td>\n",
       "    </tr>\n",
       "    <tr>\n",
       "      <th>2</th>\n",
       "      <td>3.0</td>\n",
       "      <td>0.435655</td>\n",
       "      <td>3.106984</td>\n",
       "      <td>-4.869838</td>\n",
       "    </tr>\n",
       "    <tr>\n",
       "      <th>3</th>\n",
       "      <td>3.0</td>\n",
       "      <td>0.413354</td>\n",
       "      <td>0.881536</td>\n",
       "      <td>-5.958776</td>\n",
       "    </tr>\n",
       "    <tr>\n",
       "      <th>4</th>\n",
       "      <td>2.0</td>\n",
       "      <td>0.274771</td>\n",
       "      <td>-3.366619</td>\n",
       "      <td>-2.444610</td>\n",
       "    </tr>\n",
       "  </tbody>\n",
       "</table>\n",
       "</div>"
      ],
      "text/plain": [
       "   State  StretchedPseudotime  DDRTreeDim1  DDRTreeDim2\n",
       "0    3.0             0.312208    -0.728425    -4.253484\n",
       "1    2.0             0.256831    -3.131191    -2.867801\n",
       "2    3.0             0.435655     3.106984    -4.869838\n",
       "3    3.0             0.413354     0.881536    -5.958776\n",
       "4    2.0             0.274771    -3.366619    -2.444610"
      ]
     },
     "execution_count": 4,
     "metadata": {},
     "output_type": "execute_result"
    }
   ],
   "source": [
    "monocle.head()"
   ]
  },
  {
   "cell_type": "code",
   "execution_count": 5,
   "metadata": {
    "scrolled": true
   },
   "outputs": [
    {
     "data": {
      "image/png": "[encoded data removed]",
      "text/plain": [
       "<Figure size 720x360 with 3 Axes>"
      ]
     },
     "metadata": {},
     "output_type": "display_data"
    }
   ],
   "source": [
    "# Plot Monocle DDRTree space\n",
    "genelist = ['FLT3','KLF1','MPO']\n",
    "f, ax = plt.subplots(1, len(genelist), figsize=(10, 5), sharex=True, sharey=True)\n",
    "for ig, g in enumerate(genelist):\n",
    "        y = Y[g].values\n",
    "        yt = np.log(1+y/y.max())\n",
    "        yt = yt/yt.max()\n",
    "        h = ax[ig].scatter(monocle['DDRTreeDim1'], monocle['DDRTreeDim2'],\n",
    "                       c=yt, s=50, alpha=1.0, vmin=0, vmax=1)\n",
    "        ax[ig].set_title(g)"
   ]
  },
  {
   "cell_type": "code",
   "execution_count": 6,
   "metadata": {},
   "outputs": [
    {
     "name": "stderr",
     "output_type": "stream",
     "text": [
      "/Users/mqbssaby/anaconda3/lib/python3.6/site-packages/h5py/__init__.py:36: FutureWarning: Conversion of the second argument of issubdtype from `float` to `np.floating` is deprecated. In future, it will be treated as `np.float64 == np.dtype(float).type`.\n",
      "  from ._conv import register_converters as _register_converters\n"
     ]
    }
   ],
   "source": [
    "import BranchedGP, time\n",
    "def PlotGene(label, X, Y, s=3, alpha=1.0, ax=None):\n",
    "    fig = None\n",
    "    if ax is None:\n",
    "        fig, ax = plt.subplots(1, 1, figsize=(5, 5))\n",
    "    for li in np.unique(label):\n",
    "        idxN = (label == li).flatten()\n",
    "        ax.scatter(X[idxN], Y[idxN], s=s, alpha=alpha, label=int(np.round(li)))\n",
    "    return fig, ax"
   ]
  },
  {
   "cell_type": "markdown",
   "metadata": {},
   "source": [
    "### Fit BGP model\n",
    "Notice the cell assignment uncertainty is higher for cells close to the branching point.\n"
   ]
  },
  {
   "cell_type": "code",
   "execution_count": null,
   "metadata": {
    "scrolled": true
   },
   "outputs": [
    {
     "name": "stdout",
     "output_type": "stream",
     "text": [
      "INFO:tensorflow:Optimization terminated with:\n",
      "  Message: b'CONVERGENCE: REL_REDUCTION_OF_F_<=_FACTR*EPSMCH'\n",
      "  Objective function value: 1921.177079\n",
      "  Number of iterations: 57\n",
      "  Number of functions evaluations: 69\n",
      "INFO:tensorflow:Optimization terminated with:\n",
      "  Message: b'CONVERGENCE: REL_REDUCTION_OF_F_<=_FACTR*EPSMCH'\n",
      "  Objective function value: 2013.111825\n",
      "  Number of iterations: 45\n",
      "  Number of functions evaluations: 49\n",
      "INFO:tensorflow:Optimization terminated with:\n",
      "  Message: b'CONVERGENCE: REL_REDUCTION_OF_F_<=_FACTR*EPSMCH'\n",
      "  Objective function value: 2616.968572\n",
      "  Number of iterations: 83\n",
      "  Number of functions evaluations: 98\n",
      "INFO:tensorflow:Optimization terminated with:\n",
      "  Message: b'STOP: TOTAL NO. of ITERATIONS REACHED LIMIT'\n",
      "  Objective function value: 4256.654645\n",
      "  Number of iterations: 100\n",
      "  Number of functions evaluations: 116\n",
      "INFO:tensorflow:Optimization terminated with:\n",
      "  Message: b'STOP: TOTAL NO. of ITERATIONS REACHED LIMIT'\n",
      "  Objective function value: 3889.340729\n",
      "  Number of iterations: 100\n",
      "  Number of functions evaluations: 126\n",
      "INFO:tensorflow:Optimization terminated with:\n",
      "  Message: b'STOP: TOTAL NO. of ITERATIONS REACHED LIMIT'\n",
      "  Objective function value: 4332.965766\n",
      "  Number of iterations: 100\n",
      "  Number of functions evaluations: 113\n"
     ]
    }
   ],
   "source": [
    "def FitGene(g, ns=20): # for quick results subsample data\n",
    "    t = time.time()\n",
    "    Bsearch = list(np.linspace(0.05, 0.95, 5)) + [1.1]  # set of candidate branching points\n",
    "    GPy = (Y[g].iloc[::ns].values - Y[g].iloc[::ns].values.mean())[:, None]  # remove mean from gene expression data\n",
    "    GPt = monocle['StretchedPseudotime'].values[::ns]\n",
    "    globalBranching = monocle['State'].values[::ns].astype(int)\n",
    "    d = BranchedGP.FitBranchingModel.FitModel(Bsearch, GPt, GPy, globalBranching)\n",
    "    print(g, 'BGP inference completed in %.1f seconds.' %  (time.time()-t))\n",
    "    # plot BGP\n",
    "    fig,ax=BranchedGP.VBHelperFunctions.PlotBGPFit(GPy, GPt, Bsearch, d, figsize=(10,10))\n",
    "    # overplot data\n",
    "    f, a=PlotGene(monocle['State'].values, monocle['StretchedPseudotime'].values, Y[g].values-Y[g].iloc[::ns].values.mean(), \n",
    "                  ax=ax[0], s=10, alpha=0.5)\n",
    "    # Calculate Bayes factor of branching vs non-branching\n",
    "    bf = BranchedGP.VBHelperFunctions.CalculateBranchingEvidence(d)['logBayesFactor']\n",
    "\n",
    "    fig.suptitle('%s log Bayes factor of branching %.1f' % (g, bf))    \n",
    "    return d, fig, ax\n",
    "d, fig, ax = FitGene('MPO')"
   ]
  },
  {
   "cell_type": "code",
   "execution_count": null,
   "metadata": {
    "scrolled": true
   },
   "outputs": [],
   "source": [
    "d_c, fig_c, ax_c = FitGene('CTSG')"
   ]
  },
  {
   "cell_type": "code",
   "execution_count": null,
   "metadata": {},
   "outputs": [],
   "source": []
  }
 ],
 "metadata": {
  "anaconda-cloud": {},
  "kernelspec": {
   "display_name": "Python 3",
   "language": "python",
   "name": "python3"
  },
  "language_info": {
   "codemirror_mode": {
    "name": "ipython",
    "version": 3
   },
   "file_extension": ".py",
   "mimetype": "text/x-python",
   "name": "python",
   "nbconvert_exporter": "python",
   "pygments_lexer": "ipython3",
   "version": "3.6.5"
  }
 },
 "nbformat": 4,
 "nbformat_minor": 1
}
